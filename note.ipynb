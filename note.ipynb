{
 "cells": [
  {
   "cell_type": "markdown",
   "metadata": {},
   "source": [
    "To be able to connect to the server, i need to be adding the current IP address everytime I want to make connections.\n",
    "\n",
    "I set on the portal, all IP address be accepted to avoid the above step.\n",
    "\n",
    "I noticed once there is an error in any query, it will send keep sending the \"current transaction is aborted error). To handle this error, i used commit or rollback on the connection.\n",
    "\n",
    "After running the query to create the table, i noticed it wasn't on the server if i should restart and check the database. To fix this, I used the commit after creating the table.\n",
    "\n",
    "When trying to read the query with pandas, it ran but I got a warning that pandas only support SQLAlchemy connection. So I moved on to using SQLAlchemy engine to connect to the database. "
   ]
  }
 ],
 "metadata": {
  "kernelspec": {
   "display_name": "Python 3.10.6 64-bit",
   "language": "python",
   "name": "python3"
  },
  "language_info": {
   "name": "python",
   "version": "3.10.6"
  },
  "orig_nbformat": 4,
  "vscode": {
   "interpreter": {
    "hash": "428a2680e134346dc6a50eeb15b5601ea447c297abbe5316187818ea532ba498"
   }
  }
 },
 "nbformat": 4,
 "nbformat_minor": 2
}
